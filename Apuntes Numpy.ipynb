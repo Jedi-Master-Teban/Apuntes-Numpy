{
 "cells": [
  {
   "cell_type": "markdown",
   "metadata": {},
   "source": [
    "# Numpy\n",
    "Numpy es una librería fundamental para la computación científica con Python puesto que tiene múltiples herramientas numéricas como funciones matemáticas, manejo de _Arrays_ (un tipo de estructura de datos para albergar elementos) y es la base de otras como Pandas, crucial para el análisis de datos.\n",
    "\n",
    "Su núcleo está programado en el lenguaje C, por esta razón también tiene un rendimiento superior en velocidad de cómputo con la facilidad de escritura que tiene Python. Además es una librería _Open-source_ por lo que es gratuita en su uso así como abierta para las mejoras por parte de la comunidad de usuarios.\n",
    "\n",
    "En estos apuntes dejaré los comandos escritos en celdas de Markdown pero a diferencia de lo que ves en mis otros repositorios de apuntes aquí ejecutaré esos comandos en celdas de código para dejar los ejemplos y que los puedas correr tu mismo haciéndole _pull_ a este repositorio."
   ]
  },
  {
   "cell_type": "markdown",
   "metadata": {},
   "source": [
    "Para usar Numpy en tu editor de código deberás usar el siguiente comando para importar la librería:\n",
    "\n",
    "* <font color=\"MediumPurple\">***import numpy as np***</font>: Mediante la palabra _import_ traemos la librería a nuestro script y podremos usar todas sus funciones, la sección _as np_ es para darle una abreviatura y que los comandos de la librería los llamemos usando únicamente _np_.\n"
   ]
  },
  {
   "cell_type": "code",
   "execution_count": 8,
   "metadata": {},
   "outputs": [],
   "source": [
    "import numpy as np"
   ]
  },
  {
   "cell_type": "markdown",
   "metadata": {},
   "source": [
    "### ¿Qué es un Array?\n",
    "De acuerdo a la página oficial de Numpy, un array es:\n",
    " \n",
    ">Una estructura central de datos de la librería Numpy. Un Array es una parrilla de valores y contiene información sobre los datos en bruto, cómo localizar un elemento y cómo interpretarlo. (traducción propia)\n",
    " \n",
    "Creemos un array sencillo con el código abajo e imprimámoslo."
   ]
  },
  {
   "cell_type": "code",
   "execution_count": 9,
   "metadata": {},
   "outputs": [
    {
     "name": "stdout",
     "output_type": "stream",
     "text": [
      "[1 2 3]\n"
     ]
    }
   ],
   "source": [
    "#Creación de un array uni-dimensional\n",
    "a = np.array([1, 2, 3])\n",
    "print(a)"
   ]
  },
  {
   "cell_type": "markdown",
   "metadata": {},
   "source": [
    "El _Array_ 'a' es uni-dimensional pero con Numpy también podemos crear _Arrays_ multi-dimensionales, a continuación te muestro el ejemplo con 'b'.\n",
    "\n",
    "En este caso y si ya conoces Python es sencillo pensar en estos arrays como listas, son diferentes en algunos aspectos como su almacenamiento pero imagina la colección de elementos (datos), si estás familiarizado con Álgebra Lineal la mejor analogía es con vectores y matrices, imagina lo siguiente, podemos crear un _Array_ uni-dimensional que contenga un solo elemento (analogo a un escalar), si añadimos otros elementos pero mantiendo su dimensión como en 'a' este será un vector (que es una matriz de n $\\times$ 1 o bien 1 $\\times$ n).\n",
    "\n",
    "Ahora piensa en que añadimos más columnas, y podríamos terminar con una matriz n $\\times$ m. Si ves 'b' se asemeja mucho a lo que conocemos de clase como una matriz, ¿verdad?"
   ]
  },
  {
   "cell_type": "code",
   "execution_count": 10,
   "metadata": {},
   "outputs": [
    {
     "name": "stdout",
     "output_type": "stream",
     "text": [
      "[[1 2 3]\n",
      " [4 5 6]]\n"
     ]
    }
   ],
   "source": [
    "#Creación de un array multi-dimensional, bi-dimensional en este caso.\n",
    "b = np.array([[1, 2, 3],[4, 5, 6]])\n",
    "print(b)"
   ]
  },
  {
   "cell_type": "markdown",
   "metadata": {},
   "source": [
    "#### Dimensiones de un array\n",
    "Si quisiéramos conocer las dimensiones de un array que no creamos o comprobarlas podemos usar el siguiente comando, te muestro el ejemplo con nuestro array 'a', pero recuerda que donde va puedes poner el nombre que le hayas dado a tu array.\n",
    "\n",
    "* <font color=\"MediumPurple\">***a.ndim***</font>\n",
    "\n",
    "Abajo puedes ver la ejecución del comando"
   ]
  },
  {
   "cell_type": "code",
   "execution_count": 11,
   "metadata": {},
   "outputs": [
    {
     "data": {
      "text/plain": [
       "1"
      ]
     },
     "execution_count": 11,
     "metadata": {},
     "output_type": "execute_result"
    }
   ],
   "source": [
    "a.ndim"
   ]
  },
  {
   "cell_type": "markdown",
   "metadata": {},
   "source": [
    "Intentémoslo ahora con nuestro array 'b' y verás que es bi-dimensional."
   ]
  },
  {
   "cell_type": "code",
   "execution_count": 12,
   "metadata": {},
   "outputs": [
    {
     "data": {
      "text/plain": [
       "2"
      ]
     },
     "execution_count": 12,
     "metadata": {},
     "output_type": "execute_result"
    }
   ],
   "source": [
    "b.ndim"
   ]
  },
  {
   "cell_type": "markdown",
   "metadata": {},
   "source": [
    "#### Forma de un array\n",
    "El siguiente comando nos mostrará la forma de cualquier array, quizás lo podamos confundir con el término de _dimensión_ en español, puesto que en la analogía de las matrices así nos referimos a la forma cuando especificamos el n $\\times$ m que tiene. Por favor ten presente que son dos cosas distintas.\n",
    "\n",
    "* <font color=\"MediumPurple\">***a.shape***</font>\n",
    "\n",
    "Abajo veremos la forma de nuestros dos arrays 'a' y 'b'."
   ]
  },
  {
   "cell_type": "code",
   "execution_count": 15,
   "metadata": {},
   "outputs": [
    {
     "data": {
      "text/plain": [
       "(3,)"
      ]
     },
     "execution_count": 15,
     "metadata": {},
     "output_type": "execute_result"
    }
   ],
   "source": [
    "a.shape"
   ]
  },
  {
   "cell_type": "code",
   "execution_count": 16,
   "metadata": {},
   "outputs": [
    {
     "data": {
      "text/plain": [
       "(2, 3)"
      ]
     },
     "execution_count": 16,
     "metadata": {},
     "output_type": "execute_result"
    }
   ],
   "source": [
    "b.shape"
   ]
  },
  {
   "cell_type": "markdown",
   "metadata": {},
   "source": [
    "#### Type\n",
    "Podemos conocer qué clase de dato es el array que estamos trabajando con el siguiente comando:\n",
    "\n",
    "* <font color=\"MediumPurple\">***a.dtype***</font>\n",
    "\n",
    "Y para que lo sepas también podemos definir el tipo de dato de un array al momento de crearlo, para eso debemos extender un poco el primer comando, aquí lo tienes\n",
    "\n",
    "* <font color=\"MediumPurple\">***a = np.array([1, 2, 3], dtype='int16')***</font>\n",
    "Si te preguntas por qué escribir 'int16' en lugar de sólo 'int' o por qué no escribir 'int32' te explico que la diferencia radica en el rango que puede tomar el array en sus valores, la mención de qué tipo de 'int' es importante cuando tratamos temas de criptografía o porque es necesario hacer explícito que se necesita determinada capacidad para el tipo 'int'. Para que veas los valores que pueden albergar los distintos tipos de int de dejo esta tabla, tomada de la respuesta en StackOverflow por 'user1082916' (si la deseas consultar tú mismo aquí está el [link](https://stackoverflow.com/questions/9696660/what-is-the-difference-between-int-int16-int32-and-int64)):\n",
    "\n",
    "    *  Int16 -- (-32,768 to +32,767)\n",
    "\n",
    "    *  Int32 -- (-2,147,483,648 to +2,147,483,647)\n",
    "\n",
    "    *  Int64 -- (-9,223,372,036,854,775,808 to +9,223,372,036,854,775,807)"
   ]
  },
  {
   "cell_type": "code",
   "execution_count": 18,
   "metadata": {},
   "outputs": [
    {
     "data": {
      "text/plain": [
       "dtype('int32')"
      ]
     },
     "execution_count": 18,
     "metadata": {},
     "output_type": "execute_result"
    }
   ],
   "source": [
    "#Definir un array con un tipo de dato específico\n",
    "c = np.array([7, 8, 9], dtype='int32')\n",
    "c.dtype"
   ]
  },
  {
   "cell_type": "markdown",
   "metadata": {},
   "source": [
    "#### Size\n",
    "\n",
    "##### Itemsize\n",
    "Podemos ver el tamaño en _bytes_ de un elemento contenido en nuestro array con el siguiente comando:\n",
    "\n",
    "* <font color=\"MediumPurple\">***a.itemsize***</font>"
   ]
  },
  {
   "cell_type": "code",
   "execution_count": 19,
   "metadata": {},
   "outputs": [
    {
     "data": {
      "text/plain": [
       "4"
      ]
     },
     "execution_count": 19,
     "metadata": {},
     "output_type": "execute_result"
    }
   ],
   "source": [
    "a.itemsize"
   ]
  },
  {
   "cell_type": "markdown",
   "metadata": {},
   "source": [
    "##### nbytes\n",
    "Podemos ver el total de _bytes_ que consumen todos los elementos de nuestro array:\n",
    "\n",
    "* <font color=\"MediumPurple\">***a.nbytes***</font>"
   ]
  },
  {
   "cell_type": "code",
   "execution_count": 21,
   "metadata": {},
   "outputs": [
    {
     "data": {
      "text/plain": [
       "24"
      ]
     },
     "execution_count": 21,
     "metadata": {},
     "output_type": "execute_result"
    }
   ],
   "source": [
    "b.nbytes"
   ]
  },
  {
   "cell_type": "markdown",
   "metadata": {},
   "source": [
    "### Accediendo y cambiando elementos específicos, filas, columnas, etc\n"
   ]
  }
 ],
 "metadata": {
  "kernelspec": {
   "display_name": "Python 3",
   "language": "python",
   "name": "python3"
  },
  "language_info": {
   "codemirror_mode": {
    "name": "ipython",
    "version": 3
   },
   "file_extension": ".py",
   "mimetype": "text/x-python",
   "name": "python",
   "nbconvert_exporter": "python",
   "pygments_lexer": "ipython3",
   "version": "3.11.5"
  },
  "orig_nbformat": 4
 },
 "nbformat": 4,
 "nbformat_minor": 2
}
