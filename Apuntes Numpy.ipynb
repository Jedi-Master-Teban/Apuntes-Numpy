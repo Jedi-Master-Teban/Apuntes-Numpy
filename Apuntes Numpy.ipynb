{
 "cells": [
  {
   "cell_type": "markdown",
   "metadata": {},
   "source": [
    "# Numpy\n",
    "Numpy es una librería fundamental para la computación científica con Python puesto que tiene múltiples herramientas numéricas como funciones matemáticas, manejo de _Arrays_ (un tipo de estructura de datos para albergar elementos) y es la base de otras como Pandas, crucial para el análisis de datos.\n",
    "\n",
    "Su núcleo está programado en el lenguaje C, por esta razón también tiene un rendimiento superior en velocidad de cómputo con la facilidad de escritura que tiene Python. Además es una librería _Open-source_ por lo que es gratuita en su uso así como abierta para las mejoras por parte de la comunidad de usuarios.\n",
    "\n"
   ]
  }
 ],
 "metadata": {
  "language_info": {
   "name": "python"
  },
  "orig_nbformat": 4
 },
 "nbformat": 4,
 "nbformat_minor": 2
}
