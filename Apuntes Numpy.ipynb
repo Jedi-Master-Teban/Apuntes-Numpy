{
 "cells": [
  {
   "cell_type": "markdown",
   "metadata": {},
   "source": [
    "# Numpy\n",
    "Numpy es una librería fundamental para la computación científica con Python puesto que tiene múltiples herramientas numéricas como funciones matemáticas, manejo de _Arrays_ (un tipo de estructura de datos para albergar elementos) y es la base de otras como Pandas, crucial para el análisis de datos.\n",
    "\n",
    "Su núcleo está programado en el lenguaje C, por esta razón también tiene un rendimiento superior en velocidad de cómputo con la facilidad de escritura que tiene Python. Además es una librería _Open-source_ por lo que es gratuita en su uso así como abierta para las mejoras por parte de la comunidad de usuarios.\n",
    "\n",
    "En estos apuntes dejaré los comandos escritos en celdas de Markdown pero a diferencia de lo que ves en mis otros repositorios de apuntes aquí ejecutaré esos comandos en celdas de código para dejar los ejemplos y que los puedas correr tu mismo haciéndole _pull_ a este repositorio."
   ]
  },
  {
   "cell_type": "markdown",
   "metadata": {},
   "source": [
    "Para usar Numpy en tu editor de código deberás usar el siguiente comando para importar la librería:\n",
    "\n",
    "* <font color=\"SlateBlue\">***import numpy as np***</font>: Mediante la palabra _import_ traemos la librería a nuestro script y podremos usar todas sus funciones, la sección _as np_ es para darle una abreviatura y que los comandos de la librería los llamemos usando únicamente _np_.\n"
   ]
  },
  {
   "cell_type": "code",
   "execution_count": 79,
   "metadata": {},
   "outputs": [],
   "source": [
    "import numpy as np"
   ]
  },
  {
   "cell_type": "markdown",
   "metadata": {},
   "source": [
    "### ¿Qué es un Array?\n",
    "De acuerdo a la página oficial de Numpy, un array es:\n",
    " \n",
    ">Una estructura central de datos de la librería Numpy. Un Array es una parrilla de valores y contiene información sobre los datos en bruto, cómo localizar un elemento y cómo interpretarlo. (traducción propia)\n",
    " \n",
    "Creemos un array sencillo con el código abajo e imprimámoslo."
   ]
  },
  {
   "cell_type": "code",
   "execution_count": 80,
   "metadata": {},
   "outputs": [
    {
     "name": "stdout",
     "output_type": "stream",
     "text": [
      "[1 2 3]\n"
     ]
    }
   ],
   "source": [
    "#Creación de un array uni-dimensional\n",
    "a = np.array([1, 2, 3])\n",
    "print(a)"
   ]
  },
  {
   "cell_type": "markdown",
   "metadata": {},
   "source": [
    "El _Array_ 'a' es uni-dimensional pero con Numpy también podemos crear _Arrays_ multi-dimensionales, a continuación te muestro el ejemplo con 'b'.\n",
    "\n",
    "En este caso y si ya conoces Python es sencillo pensar en estos arrays como listas, son diferentes en algunos aspectos como su almacenamiento pero imagina la colección de elementos (datos), si estás familiarizado con Álgebra Lineal la mejor analogía es con vectores y matrices, imagina lo siguiente, podemos crear un _Array_ uni-dimensional que contenga un solo elemento (analogo a un escalar), si añadimos otros elementos pero mantiendo su dimensión como en 'a' este será un vector (que es una matriz de n $\\times$ 1 o bien 1 $\\times$ n).\n",
    "\n",
    "Ahora piensa en que añadimos más columnas, y podríamos terminar con una matriz n $\\times$ m. Si ves 'b' se asemeja mucho a lo que conocemos de clase como una matriz, ¿verdad?"
   ]
  },
  {
   "cell_type": "code",
   "execution_count": 81,
   "metadata": {},
   "outputs": [
    {
     "name": "stdout",
     "output_type": "stream",
     "text": [
      "[[1 2 3]\n",
      " [4 5 6]]\n"
     ]
    }
   ],
   "source": [
    "#Creación de un array multi-dimensional, bi-dimensional en este caso.\n",
    "b = np.array([[1, 2, 3],[4, 5, 6]])\n",
    "print(b)"
   ]
  },
  {
   "cell_type": "markdown",
   "metadata": {},
   "source": [
    "#### Dimensiones de un array\n",
    "Si quisiéramos conocer las dimensiones de un array que no creamos o comprobarlas podemos usar el siguiente comando, te muestro el ejemplo con nuestro array 'a', pero recuerda que donde va puedes poner el nombre que le hayas dado a tu array.\n",
    "\n",
    "* <font color=\"SlateBlue\">***a.ndim***</font>\n",
    "\n",
    "Abajo puedes ver la ejecución del comando"
   ]
  },
  {
   "cell_type": "code",
   "execution_count": 82,
   "metadata": {},
   "outputs": [
    {
     "data": {
      "text/plain": [
       "1"
      ]
     },
     "execution_count": 82,
     "metadata": {},
     "output_type": "execute_result"
    }
   ],
   "source": [
    "a.ndim"
   ]
  },
  {
   "cell_type": "markdown",
   "metadata": {},
   "source": [
    "Intentémoslo ahora con nuestro array 'b' y verás que es bi-dimensional."
   ]
  },
  {
   "cell_type": "code",
   "execution_count": 83,
   "metadata": {},
   "outputs": [
    {
     "data": {
      "text/plain": [
       "2"
      ]
     },
     "execution_count": 83,
     "metadata": {},
     "output_type": "execute_result"
    }
   ],
   "source": [
    "b.ndim"
   ]
  },
  {
   "cell_type": "markdown",
   "metadata": {},
   "source": [
    "#### Forma de un array\n",
    "El siguiente comando nos mostrará la forma de cualquier array, quizás lo podamos confundir con el término de _dimensión_ en español, puesto que en la analogía de las matrices así nos referimos a la forma cuando especificamos el n $\\times$ m que tiene. Por favor ten presente que son dos cosas distintas.\n",
    "\n",
    "* <font color=\"SlateBlue\">***a.shape***</font>\n",
    "\n",
    "Abajo veremos la forma de nuestros dos arrays 'a' y 'b'."
   ]
  },
  {
   "cell_type": "code",
   "execution_count": 84,
   "metadata": {},
   "outputs": [
    {
     "name": "stdout",
     "output_type": "stream",
     "text": [
      "[1 2 3]\n",
      "(3,)\n"
     ]
    }
   ],
   "source": [
    "print(a)\n",
    "print(a.shape)"
   ]
  },
  {
   "cell_type": "code",
   "execution_count": 85,
   "metadata": {},
   "outputs": [
    {
     "name": "stdout",
     "output_type": "stream",
     "text": [
      "[[1 2 3]\n",
      " [4 5 6]]\n",
      "(2, 3)\n"
     ]
    }
   ],
   "source": [
    "print(b)\n",
    "print(b.shape)"
   ]
  },
  {
   "cell_type": "markdown",
   "metadata": {},
   "source": [
    "#### Type\n",
    "Podemos conocer qué clase de dato es el array que estamos trabajando con el siguiente comando:\n",
    "\n",
    "* <font color=\"SlateBlue\">***a.dtype***</font>\n",
    "\n",
    "Y para que lo sepas también podemos definir el tipo de dato de un array al momento de crearlo, para eso debemos extender un poco el primer comando, aquí lo tienes\n",
    "\n",
    "* <font color=\"SlateBlue\">***a = np.array([1, 2, 3], dtype='int16')***</font>\n",
    "Si te preguntas por qué escribir 'int16' en lugar de sólo 'int' o por qué no escribir 'int32' te explico que la diferencia radica en el rango que puede tomar el array en sus valores, la mención de qué tipo de 'int' es importante cuando tratamos temas de criptografía o porque es necesario hacer explícito que se necesita determinada capacidad para el tipo 'int'. Para que veas los valores que pueden albergar los distintos tipos de int de dejo esta tabla, tomada de la respuesta en StackOverflow por 'user1082916' (si la deseas consultar tú mismo aquí está el [link](https://stackoverflow.com/questions/9696660/what-is-the-difference-between-int-int16-int32-and-int64)):\n",
    "\n",
    "    *  Int16 -- (-32,768 to +32,767)\n",
    "\n",
    "    *  Int32 -- (-2,147,483,648 to +2,147,483,647)\n",
    "\n",
    "    *  Int64 -- (-9,223,372,036,854,775,808 to +9,223,372,036,854,775,807)"
   ]
  },
  {
   "cell_type": "code",
   "execution_count": 86,
   "metadata": {},
   "outputs": [
    {
     "data": {
      "text/plain": [
       "dtype('int32')"
      ]
     },
     "execution_count": 86,
     "metadata": {},
     "output_type": "execute_result"
    }
   ],
   "source": [
    "#Definir un array con un tipo de dato específico\n",
    "c = np.array([7, 8, 9], dtype='int32')\n",
    "c.dtype"
   ]
  },
  {
   "cell_type": "markdown",
   "metadata": {},
   "source": [
    "#### Size\n",
    "\n",
    "##### Itemsize\n",
    "Podemos ver el tamaño en _bytes_ de un elemento contenido en nuestro array con el siguiente comando:\n",
    "\n",
    "* <font color=\"SlateBlue\">***a.itemsize***</font>"
   ]
  },
  {
   "cell_type": "code",
   "execution_count": 87,
   "metadata": {},
   "outputs": [
    {
     "data": {
      "text/plain": [
       "4"
      ]
     },
     "execution_count": 87,
     "metadata": {},
     "output_type": "execute_result"
    }
   ],
   "source": [
    "a.itemsize"
   ]
  },
  {
   "cell_type": "markdown",
   "metadata": {},
   "source": [
    "##### nbytes\n",
    "Podemos ver el total de _bytes_ que consumen todos los elementos de nuestro array:\n",
    "\n",
    "* <font color=\"SlateBlue\">***a.nbytes***</font>"
   ]
  },
  {
   "cell_type": "code",
   "execution_count": 88,
   "metadata": {},
   "outputs": [
    {
     "data": {
      "text/plain": [
       "24"
      ]
     },
     "execution_count": 88,
     "metadata": {},
     "output_type": "execute_result"
    }
   ],
   "source": [
    "b.nbytes"
   ]
  },
  {
   "cell_type": "markdown",
   "metadata": {},
   "source": [
    "### Accediendo y cambiando elementos específicos, filas, columnas, etc\n",
    "Ahora que sabemos crear arrays y definirlos podemos pensar en cómo acceder a ellos y editarlos según nuestras necesidades, es decir, un array no tiene por qué permanecer inmutable y ahora vamos a aprender cómo manipularlos una vez ya creados.\n",
    "\n",
    "Definamos un array llamado 'x', que podremos modificar y darle nuevos valores como en cualquier clase de álgebra, será nuestro comodín para todos los ejemplos. Primero empezaremos por llamar un elemento específico de 'x' y lo haremos mediante la **indexación**, esto es, según la RAE:\n",
    "\n",
    ">Registrar ordenadamente datos e informaciones, para elaborar su índice.\n",
    "\n",
    "#### Acceder o _llamar_ elementos específicos\n",
    "\n",
    "Bastante claro, ¿verdad? Definiremos al array 'x' de forma bi-dimensional y con múltiples elementos, te mostraré cómo llamar uno específico pero antes debes recordar esto de Python, ***el índice siempre empieza en 0*** lo que significa que el primer elemento tiene la 'posición 0' y si llamas por indexación al elemento 1 obtendrás aquél que está en la segunda posición. Veamos el ejemplo."
   ]
  },
  {
   "cell_type": "code",
   "execution_count": 89,
   "metadata": {},
   "outputs": [
    {
     "data": {
      "text/plain": [
       "3"
      ]
     },
     "execution_count": 89,
     "metadata": {},
     "output_type": "execute_result"
    }
   ],
   "source": [
    "#Definimos el array 'x'\n",
    "x = np.array([[1, 2, 3, 4, 5, 6, 7, 8, 9], [11, 12, 13, 14, 15, 16, 17, 18, 19]])\n",
    "\n",
    "#Llamamos el elemento en la posición 3 de la fila 1\n",
    "x[0, 2]"
   ]
  },
  {
   "cell_type": "markdown",
   "metadata": {},
   "source": [
    "Como puedes apreciar el resultado es el elemento 3 que se encuentra en la primera fila (fila posición 0) y en la tercera posición (es decir, aquella indexada como 2 puesto que 0 es la primera, 1 es la segunda y 2 corresponderá a la tercera).\n",
    "\n",
    "Intentemos llamar el primer elemento de la segunda fila, es decir el '12'."
   ]
  },
  {
   "cell_type": "code",
   "execution_count": 90,
   "metadata": {},
   "outputs": [
    {
     "data": {
      "text/plain": [
       "12"
      ]
     },
     "execution_count": 90,
     "metadata": {},
     "output_type": "execute_result"
    }
   ],
   "source": [
    "x[1,1]"
   ]
  },
  {
   "cell_type": "markdown",
   "metadata": {},
   "source": [
    "Podemos hacer lo mismo con la ***indexación negativa***, esta es una forma que tiene Python de asignar una posición a los elementos de una colección de datos de atrás para adelante, es decir, comenzando por el final.\n",
    "\n",
    "Dado que el '0' está reservado para la primera posición y aumenta de a uno para los elementos a la derecha, la indexación negativa asigna el '-1' al último elemento de una colección y se añade '-1' a los elementos a la derecha, así, el último elemento tiene el índice '-1', el penúltimo '-2', el antepenúltimo '-3' y así sucesivamente hasta llegar el primer elemento.\n",
    "\n",
    "Te dejo dos ejemplos aquí abajo; el primero consiste en llamar el último elemento de la primera fila, es decir, el 9; el segundo en llamar el último elemento de la segunda fila, es decir, el 19."
   ]
  },
  {
   "cell_type": "code",
   "execution_count": 91,
   "metadata": {},
   "outputs": [
    {
     "data": {
      "text/plain": [
       "9"
      ]
     },
     "execution_count": 91,
     "metadata": {},
     "output_type": "execute_result"
    }
   ],
   "source": [
    "x[0,-1]"
   ]
  },
  {
   "cell_type": "code",
   "execution_count": 92,
   "metadata": {},
   "outputs": [
    {
     "data": {
      "text/plain": [
       "19"
      ]
     },
     "execution_count": 92,
     "metadata": {},
     "output_type": "execute_result"
    }
   ],
   "source": [
    "x[1,-1]"
   ]
  },
  {
   "cell_type": "markdown",
   "metadata": {},
   "source": [
    "Si deseas obtener un rango de elementos de nuestro array también puedes utilizar el ':' para definir las posiciones que quieres llamar. Vamos a llamar los primeros 3 elementos de la primera fila usando esta notación."
   ]
  },
  {
   "cell_type": "code",
   "execution_count": 93,
   "metadata": {},
   "outputs": [
    {
     "name": "stdout",
     "output_type": "stream",
     "text": [
      "[1 2 3]\n",
      "[11 12 13]\n"
     ]
    }
   ],
   "source": [
    "#Llamar los 3 primeros elementos de la fila 1\n",
    "print(x[0, 0:3])\n",
    "\n",
    "#Llamar los 3 primeros elementos de la fila 2\n",
    "print(x[1, 0:3])"
   ]
  },
  {
   "cell_type": "markdown",
   "metadata": {},
   "source": [
    "¿Y si quisieras llamar todos los elementos de una misma columna? Puedes poner ':' en la primera posición y en la segunda las filas de dichas columnas que deseas llamar."
   ]
  },
  {
   "cell_type": "code",
   "execution_count": 94,
   "metadata": {},
   "outputs": [
    {
     "name": "stdout",
     "output_type": "stream",
     "text": [
      "[ 1 11]\n",
      "[ 2 12]\n"
     ]
    }
   ],
   "source": [
    "#Llamar los primeros elementos de la columna 1\n",
    "print(x[:, 0])\n",
    "\n",
    "#Llamar los primeros elementos de la columna 2\n",
    "print(x[:, 1])"
   ]
  },
  {
   "cell_type": "markdown",
   "metadata": {},
   "source": [
    "#### Cambiar elementos específicos\n",
    "Ahora que sabemos acceder a un elemento específico, podemos redefinirlo con el símbolo '=', Para hacerlo sólo debemos proveer la ubicación del elemento mediante algún método de indexación de los que ya vimos y reasignarle su valor con un igual y el valor que deseemos cambiar.\n",
    "\n",
    "Para hacer un ejemplo vamos a cambiar el primer elemento de la primera fila del array, es decir, el 1, lo reescribiremos por '200'."
   ]
  },
  {
   "cell_type": "code",
   "execution_count": 95,
   "metadata": {},
   "outputs": [
    {
     "name": "stdout",
     "output_type": "stream",
     "text": [
      "200\n",
      "[[200   2   3   4   5   6   7   8   9]\n",
      " [ 11  12  13  14  15  16  17  18  19]]\n"
     ]
    }
   ],
   "source": [
    "#Reasignación del valor de un elemento\n",
    "x[0, 0] = 200\n",
    "\n",
    "#Verificamos que el valor se haya reasignado\n",
    "print(x[0, 0])\n",
    "\n",
    "#Visualizamos todo el Array\n",
    "print(x)"
   ]
  },
  {
   "cell_type": "markdown",
   "metadata": {},
   "source": [
    "### Distintos tipos de Arrays\n",
    "En esta sección podremos crear distintos tipos de arrays como colecciones de unos y ceros así como arrays con valores aleatorios. Estos son útiles por ejemplo en Álgebra Lineal para matrices identidad, o en pruebas para análisis de datos estadísticos con muestras aleatorias por ejemplo.\n",
    "\n",
    "Empecemos con un array de únicamente ceros.\n",
    "\n",
    "#### Zeros\n",
    "Para eso utilizaremos el siguiente comando:\n",
    "* <font color=\"SlateBlue\">***a = np.zeros(forma, dtype='tipo', order='C')***</font>: Con este comando únicamente debemos especificar la forma de nuestro array puesto que todos los elementos tendrán el valor de '0'. Su sintaxis nos dice que podemos espeficar su forma, luego su tipo de dato y por último su orden. Este orden es una manera de alamacenar los datos en la memoria, no es relevante por ahora pero puedes googleearlo para más información."
   ]
  },
  {
   "cell_type": "code",
   "execution_count": 96,
   "metadata": {},
   "outputs": [
    {
     "data": {
      "text/plain": [
       "array([0, 0])"
      ]
     },
     "execution_count": 96,
     "metadata": {},
     "output_type": "execute_result"
    }
   ],
   "source": [
    "y = np.zeros(2, dtype='int32')\n",
    "y"
   ]
  },
  {
   "cell_type": "markdown",
   "metadata": {},
   "source": [
    "Podemos comprobar que su forma es de 2, pero su dimensión es 1, con el comando '.ndim'."
   ]
  },
  {
   "cell_type": "code",
   "execution_count": 97,
   "metadata": {},
   "outputs": [
    {
     "data": {
      "text/plain": [
       "1"
      ]
     },
     "execution_count": 97,
     "metadata": {},
     "output_type": "execute_result"
    }
   ],
   "source": [
    "y.ndim"
   ]
  },
  {
   "cell_type": "markdown",
   "metadata": {},
   "source": [
    "Si quisiéramos un array de más dimensiones pero igualmente con todos sus valores en cero podemos hacerlo de la siguiente forma:"
   ]
  },
  {
   "cell_type": "code",
   "execution_count": 98,
   "metadata": {},
   "outputs": [
    {
     "data": {
      "text/plain": [
       "array([[0, 0, 0, 0],\n",
       "       [0, 0, 0, 0],\n",
       "       [0, 0, 0, 0]])"
      ]
     },
     "execution_count": 98,
     "metadata": {},
     "output_type": "execute_result"
    }
   ],
   "source": [
    "y = np.zeros((3, 4), dtype='int32')\n",
    "y"
   ]
  },
  {
   "cell_type": "markdown",
   "metadata": {},
   "source": [
    "Puedes ver su tamaño y sus dimensiones de la siguiente manera"
   ]
  },
  {
   "cell_type": "code",
   "execution_count": 99,
   "metadata": {},
   "outputs": [
    {
     "name": "stdout",
     "output_type": "stream",
     "text": [
      "(3, 4)\n",
      "2\n"
     ]
    }
   ],
   "source": [
    "print(y.shape)\n",
    "print(y.ndim)"
   ]
  },
  {
   "cell_type": "markdown",
   "metadata": {},
   "source": [
    "#### Ones\n",
    "De la misma manera que podemos crear arrays con únicamente ceros también podemos hacerlo con unos, el comando sigue la misma sintaxis y te dejo el ejemplo aquí abajo."
   ]
  },
  {
   "cell_type": "code",
   "execution_count": 100,
   "metadata": {},
   "outputs": [
    {
     "name": "stdout",
     "output_type": "stream",
     "text": [
      "[[1 1]\n",
      " [1 1]\n",
      " [1 1]\n",
      " [1 1]\n",
      " [1 1]]\n"
     ]
    }
   ],
   "source": [
    "#Crear array únicamente de unos\n",
    "z = np.ones((5, 2), dtype='int32')\n",
    "print(z)"
   ]
  },
  {
   "cell_type": "code",
   "execution_count": 101,
   "metadata": {},
   "outputs": [
    {
     "name": "stdout",
     "output_type": "stream",
     "text": [
      "(5, 2)\n",
      "2\n"
     ]
    }
   ],
   "source": [
    "#Ver la forma y las dimensiones de 'z'\n",
    "print(z.shape)\n",
    "print(z.ndim)"
   ]
  },
  {
   "cell_type": "markdown",
   "metadata": {},
   "source": [
    "#### Cualquier número\n",
    "Supongamos ahora que deseamos crear un array con un sólo número pero que sea distinto de unos y ceros, también podemos hacerlo con el siguiente comando:\n",
    "\n",
    "* <font color=\"SlateBlue\">***a = np.full(forma, valor_de_cada_elemento, dtype='tipo', order='C')***</font>: Esta vez la sintaxis toma un parámetro adicional, el valor que tendrán todos los elementos del array, así, es posible crear arrays de enteros pero también de flotantes.\n",
    "\n",
    "Veamos un ejemplo redefiniendo 'x'"
   ]
  },
  {
   "cell_type": "code",
   "execution_count": 102,
   "metadata": {},
   "outputs": [
    {
     "name": "stdout",
     "output_type": "stream",
     "text": [
      "[[1.5 1.5 1.5 1.5 1.5]\n",
      " [1.5 1.5 1.5 1.5 1.5]\n",
      " [1.5 1.5 1.5 1.5 1.5]\n",
      " [1.5 1.5 1.5 1.5 1.5]\n",
      " [1.5 1.5 1.5 1.5 1.5]]\n"
     ]
    }
   ],
   "source": [
    "#Crear un array con un valor específico\n",
    "x = np.full((5,5), 1.5, dtype='float32')\n",
    "print(x)"
   ]
  },
  {
   "cell_type": "markdown",
   "metadata": {},
   "source": [
    "¿Y qué tal si quisieras copiar las dimensiones de otro array pero usando un valor diferente? También es posible mediante este comando:\n",
    "\n",
    "* <font color=\"SlateBlue\">***a = np.full_like(array_a_copiar, valor_de_cada_elemento, dtype='tipo')***</font>: Para su sintaxis primero indicas el array del que vas a copiar su forma, luego el valor con el que llenarás cada elemento y por último su tipo de dato. Omitiré el _order_ para que no nos hagamos confusiones con eso, es un parámetro tal vez demasiado técnico y pocas veces necesario."
   ]
  },
  {
   "cell_type": "code",
   "execution_count": 103,
   "metadata": {},
   "outputs": [
    {
     "name": "stdout",
     "output_type": "stream",
     "text": [
      "[[2 2 2 2 2]\n",
      " [2 2 2 2 2]\n",
      " [2 2 2 2 2]\n",
      " [2 2 2 2 2]\n",
      " [2 2 2 2 2]]\n"
     ]
    }
   ],
   "source": [
    "#Copiar la forma y dimensiones de un array, pero con un valor diferente.\n",
    "y = np.full_like(x, 2, dtype='int32')\n",
    "print(y)"
   ]
  },
  {
   "cell_type": "markdown",
   "metadata": {},
   "source": [
    "#### Valores aleatorios\n",
    "Ahora veremos cómo crear un array con valores aleatorios, tan sólo deberemos especificar la forma y dimensión del array, en este primer comando los valores serán flotantes.\n",
    "\n",
    "* <font color=\"SlateBlue\">***a = np.random.rand(forma)***</font>"
   ]
  },
  {
   "cell_type": "code",
   "execution_count": 104,
   "metadata": {},
   "outputs": [
    {
     "name": "stdout",
     "output_type": "stream",
     "text": [
      "[[0.35485389 0.50226297]\n",
      " [0.51019068 0.68125603]\n",
      " [0.01156894 0.3683762 ]\n",
      " [0.92334007 0.80416097]]\n"
     ]
    }
   ],
   "source": [
    "d = np.random.rand(4, 2)\n",
    "print(d)"
   ]
  },
  {
   "cell_type": "markdown",
   "metadata": {},
   "source": [
    "Si deseas únicamente valores enteros puedes utilizar el siguiente comando:\n",
    "\n",
    "* <font color=\"MediumPurple\">***a = np.random.randint(límite_inferior, límite_superior, size=forma, dtype='tipo')***</font>: Para este comando la sintaxis incluye unos cuantos parámetros más, primero debes saber que el límite bajo es inclusivo, es decir, el valor que especifiques allí podrá ser incluido en la generación aleatoria. Por el contrario el límite superior no será tenido en cuenta por Numpy, debes describir su forma y el _dtype_ es opcional."
   ]
  },
  {
   "cell_type": "code",
   "execution_count": 105,
   "metadata": {},
   "outputs": [
    {
     "name": "stdout",
     "output_type": "stream",
     "text": [
      "[[4 7 6 6]\n",
      " [6 4 6 5]]\n"
     ]
    }
   ],
   "source": [
    "d = np.random.randint(2, 8, size=(2, 4), dtype='int32')\n",
    "print(d)"
   ]
  },
  {
   "cell_type": "markdown",
   "metadata": {},
   "source": [
    "Te dejo por último un comando curioso pero que probablemente te sea útil. Existe una forma en la que podemos 'repetir' un array y además podemos definir si esto se realiza de manera vertical u horizontal. El comando es el siguiente:\n",
    "\n",
    "* <font color=\"MediumPurple\">***a = np.repeat(array_a_copiar, número_de_copias, axis=vertical/horizontal, dtype='tipo')***</font>: Lo que ves en este comando no es muy difícil de entender, te pido que te fijes en el parámetro de 'axis' pues es el que más confusión puede causar. Para definir si la repetición se hará de manera vertical u horizontal debemos especificarlo con un 1 o un 0, en caso de querer repeticiones verticales usaremos el 0 y para las horizontales, el 1. Te dejo los ejemplos para que lo veas."
   ]
  },
  {
   "cell_type": "code",
   "execution_count": 106,
   "metadata": {},
   "outputs": [
    {
     "name": "stdout",
     "output_type": "stream",
     "text": [
      "[[1 2 3]\n",
      " [1 2 3]\n",
      " [1 2 3]]\n"
     ]
    }
   ],
   "source": [
    "#Repetición vertical de un array\n",
    "a = np.array([[1, 2, 3]])\n",
    "a1 = np.repeat(a, 3, axis=0) #Se repite la fila hacia abajo\n",
    "print(a1)"
   ]
  },
  {
   "cell_type": "code",
   "execution_count": 107,
   "metadata": {},
   "outputs": [
    {
     "name": "stdout",
     "output_type": "stream",
     "text": [
      "[[4 4 4]\n",
      " [5 5 5]\n",
      " [6 6 6]]\n"
     ]
    }
   ],
   "source": [
    "#Repetición horizontal de un array\n",
    "a = np.array([[4], [5], [6]])\n",
    "a1 = np.repeat(a, 3, axis=1) #Se repite la columna hacia la derecha\n",
    "print(a1)"
   ]
  },
  {
   "cell_type": "markdown",
   "metadata": {},
   "source": [
    "### Numpy en computación matemática\n",
    "Como el nombre lo indica Numpy significa 'Numerical Python' y así no podrían faltar los elementos en esta librería para operaciones matemáticas y desarrollo de programas en esta área.\n",
    "\n",
    "#### Álgebra Lineal\n",
    "En el campo del álgebra lineal podemos crear vectores como creamos los arrays que ya conoces, lo que también incluye matrices, otro elemento importante son las matrices identidad y para eso te traigo este comando:\n",
    "\n",
    "* <font color=\"MediumPurple\">***a = np.identity(n, dtype='tipo')***</font>: La sintaxis de este comando te pide que únicamente escribas la dimensión de la matriz, dado que las matrices identidades son cuadradas al especificar 'n' estás determinando el tamaño, escrito como $n \\times n$, por último también puedes especificar el tipo del _array/matriz identidad_ y listo. Veamos un ejemplo."
   ]
  },
  {
   "cell_type": "code",
   "execution_count": 108,
   "metadata": {},
   "outputs": [
    {
     "name": "stdout",
     "output_type": "stream",
     "text": [
      "[[1 0 0 0]\n",
      " [0 1 0 0]\n",
      " [0 0 1 0]\n",
      " [0 0 0 1]]\n"
     ]
    }
   ],
   "source": [
    "a = np.identity(4, dtype='int32')\n",
    "print(a)"
   ]
  },
  {
   "cell_type": "markdown",
   "metadata": {},
   "source": [
    "Algunas de las operaciones que podemos realizar sobre vectores, que finalmente eso son los _arrays_, así como escalares o matrices que son vectores de diferentes dimensiones, son estas:\n",
    "\n",
    "* Suma de  un escalar:\n",
    "    * Para esto sólo deberás especificar el array y $\\pm$ el escalar. El resultado será cada elemento operado por el escalar. <br>\n",
    "<br>\n",
    "* Multiplicación por escalares:\n",
    "    * Para esta operación sólo debes usar el símbolo _*_ y el escalar y el resultado será cada elemento multiplicado por el escalar. Recuerda que tanto la resta como la división son sumas y multiplicaciones _'disfrazadas'_, sin embargo en el caso de la división (usando el símbolo '/') podremos obtener números decimales, en cambio usando el símbolo '//' obtendremos únicamente la parte entera. <br>\n",
    "<br>\n",
    "* Suma de vectores:\n",
    "    * La suma de vectores usa el mismo símbolo, sin embargo debes tener presente que la suma sólo se puede realizar entre vectores de las mismas dimensiones, de lo contrario obtendrás un mensaje de error con un mensaje parecido a este: _operands could not be broadcast together with shapes (1,n) (1,m)_. <br>\n",
    "<br>\n",
    "* Multiplicación de vectores o matrices:\n",
    "    * La multiplicación de matrices usa un comando especial que ahora te lo mostraré, sin embargo quiero recordarte que lo más importante al momento de multiplicarlas es cumplir la siguiente propiedad: La matriz A de dimensiones $a \\times m$ únicamente se puede multiplicar con otra matriz (B) cuyas dimensiones sean $m \\times n$, es decir, que el número de columnas de A debe ser igual al número de filas de B.\n",
    "\n",
    "        El comando para multiplicar ambas matrices es:\n",
    "    \n",
    "        <font color=\"MediumPurple\">***np.matmul(A,B)***</font> <br>\n",
    "<br>\n",
    "* Determinante de una matriz:\n",
    "    * Para hallar el determinante de una matriz podemos usar el siguiente comando:\n",
    "\n",
    "        <font color=\"MediumPurple\">***np.det(A)***</font>\n",
    "    <br>\n",
    "    <br>\n",
    "    \n",
    "$$\\text{Veamos ejemplos de la multiplicación de matrices y el determinante de una matriz 4x4}$$"
   ]
  },
  {
   "cell_type": "code",
   "execution_count": 109,
   "metadata": {},
   "outputs": [
    {
     "name": "stdout",
     "output_type": "stream",
     "text": [
      "Resultado de la multiplicación de 'A' y 'B':  [[32]]\n",
      "Determinante de la matriz 'C':  0.0\n"
     ]
    }
   ],
   "source": [
    "#Multiplicación de matrices\n",
    "A = np.array([[1, 2, 3]]) #Matriz 1x3\n",
    "B = np.array([[4], [5], [6]]) #Matriz 3x1\n",
    "print('Resultado de la multiplicación de \\'A\\' y \\'B\\': ', np.matmul(A, B)) #Producto 1x1\n",
    "\n",
    "#Determinante de una matriz 4x4\n",
    "C = np.full((4,4), 5)\n",
    "print('Determinante de la matriz \\'C\\': ', np.linalg.det(C))"
   ]
  },
  {
   "cell_type": "markdown",
   "metadata": {},
   "source": [
    "##### $$\\text{Nota Importante:}$$\n",
    "Si quieres conocer más comandos para la aplicación de Álgebra Lineal usando Numpy te dejo el siguiente [link](https://numpy.org/doc/stable/reference/routines.linalg.html), te dirijirá a la página oficial de la librería y están listadas todas las funciones que te ofrece en álgebra lineal.\n",
    "\n",
    "También te dejaré este apunte para trigonometría más abajo."
   ]
  },
  {
   "cell_type": "markdown",
   "metadata": {},
   "source": [
    "#### Estadistica\n",
    "En términos de estadística Numpy tiene otra variedad de funciones para elementos como la media, la mediana, los quantiles, varianza y desviaciones estándar entre muchos otros. Aquí te dejo algunos ejemplos:\n",
    "\n",
    "Media:\n",
    "* <font color=\"MediumPurple\">***np.mean(s[axis])***</font>: El eje, recuerda, es 0 para vertical, 1 para horizontal. <br>\n",
    "<br>\n",
    "\n",
    "Mediana:\n",
    "* <font color=\"MediumPurple\">***np.median(s[axis])***</font><br>\n",
    "<br>\n",
    "\n",
    "Percentil:\n",
    "* <font color=\"MediumPurple\">***np.percentile(s, q[axis])***</font>: El parámetro 'q' se refiere al percentil que debes especificar en el intervalo de [0, 1].\n",
    "\n",
    "* <font color=\"MediumPurple\">***np.nanpercentile(s[axis])***</font>: Este comando calcula el percentil que le pidas omitiendo los valores nulos.<br>\n",
    "<br>\n",
    "\n",
    "Cuantil:\n",
    "* <font color=\"MediumPurple\">***np.quantile(s, q[axis])***</font>: El parámetro 'q' calcula el Cuantil que solicites, con valores en el intervalo de [0, 1].\n",
    "\n",
    "* <font color=\"MediumPurple\">***np.nanquantile(s[, axis])***</font>: Este comando calcula el Cuantil omitiendo los valores nulos."
   ]
  },
  {
   "cell_type": "code",
   "execution_count": 110,
   "metadata": {},
   "outputs": [
    {
     "name": "stdout",
     "output_type": "stream",
     "text": [
      "Media en sentido horizontal: 2.0\n",
      "Media en sentido vertical: 1.0\n",
      "El percentil 99 de 's': 2.98\n",
      "Cuantil 0.50 de 's': 2.0\n"
     ]
    }
   ],
   "source": [
    "#Definimos un array 's'\n",
    "s = np.array([1, 2, 3])\n",
    "\n",
    "#Hallamos la media de los elementos del array 's' en sentido horizontal\n",
    "print('Media en sentido horizontal:', np.mean(s[1]))\n",
    "\n",
    "#Hallamos la media de los elementos del array 's' en sentido vertical\n",
    "print('Media en sentido vertical:', np.mean(s[0]))\n",
    "\n",
    "#Percentil\n",
    "print('El percentil 99 de \\'s\\':', np.percentile(s, 99))\n",
    "\n",
    "#Cuantil\n",
    "print('Cuantil 0.50 de \\'s\\':', np.quantile(s, 0.5))"
   ]
  },
  {
   "cell_type": "markdown",
   "metadata": {},
   "source": [
    "### Reorganizar Arrays\n",
    "Hay algunas maneras en que podemos modificar las dimensiones de nuestros arrays tal como transponerlos así como crear agrupaciones de varios en forma vertical u horizontal. Esta es una sección muy rápida para que puedas cambiar filas por columnas y hacer ese _'stacking'_ de arrasy, es decir, apilarlos en la orientación que prefieras.\n",
    "\n",
    "Transponer un array: Existen dos métodos, el primero con el comando _reshape_ y el método _transpose_, aquí veremos ambos. Ten presente nuestro array _'s'_.\n",
    "\n",
    "$$\\text{Reshape:}$$\n",
    "* <font color=\"MediumPurple\">***s.reshape((m, n))***</font>: Supongamos que 's' tenía $n$ filas y $m$ columnas, en este caso estamos indicando que debemos cambiar su dimensión para que tenga $m$ filas y $n$ columnas. En este caso ingresarás los datos de las dimensiones tú mismo y debes intercambiar las filas por columnas, no puedes agregarle o quitarle filas ni columnas puesto que podrías eliminar o añadir elementos vacíos al array y Numpy no completa esto por nosotros.\n",
    "\n",
    "$$\\text{Transpose:}$$\n",
    "* <font color=\"MediumPurple\">***np.transpose(s)***</font>: Con el comando _transpose_ únicamente necesitas ingresar el array que vas a transponer para que Numpy haga el cambio de filas por columnas automáticamente.\n",
    "\n",
    "En caso del stacking de arrays podemos hacerlo de manera vertical u horizontal, sus comandos son casi idénticos, veámoslos.\n",
    "\n",
    "$$\\text{Vertical Stacking:}$$\n",
    "* <font color=\"MediumPurple\">***np.vstack([s1, s2])***</font>: En este caso el orden será descendente por lo que 's1' estará en la parte superior y 's2' en la parte inferior, debes fijarte que tengan la misma cantidad de columnas, es decir, pueden tener diferente número de filas pero el número de columnas debe ser igual, de lo contrario no se podrán agrupar.\n",
    "\n",
    "$$\\text{Horizontal Stacking:}$$\n",
    "* <font color=\"MediumPurple\">***np.hstack([s1, s2])***</font>: El mismo requisito de las dimensiones aplica en este caso, sin embargo, para el número de filas, pudiendo varias el número de columnas.\n",
    "\n",
    "Veamos ejemplos de los comandos que acabamos de aprender."
   ]
  },
  {
   "cell_type": "code",
   "execution_count": 141,
   "metadata": {},
   "outputs": [
    {
     "name": "stdout",
     "output_type": "stream",
     "text": [
      "El vector s original: [1 2 3]\n",
      "El vector s2 original: [1 2 3]\n"
     ]
    }
   ],
   "source": [
    "#Traemos 's' y creamos 's2'\n",
    "print('El vector s original:', s)\n",
    "s2 = np.array([1, 2, 3])\n",
    "print('El vector s2 original:', s2)"
   ]
  },
  {
   "cell_type": "code",
   "execution_count": 142,
   "metadata": {},
   "outputs": [
    {
     "name": "stdout",
     "output_type": "stream",
     "text": [
      "s2 con Reshape [[1]\n",
      " [2]\n",
      " [3]]\n",
      "s2 con Transpose [1 2 3]\n"
     ]
    }
   ],
   "source": [
    "#Utilizamos el comando 'Reshape'\n",
    "print('s2 con Reshape',s2.reshape(3, 1))\n",
    "\n",
    "#Utilizamos el comando 'Transpose'\n",
    "print('s2 con Transpose', np.transpose(s2))"
   ]
  },
  {
   "cell_type": "code",
   "execution_count": 145,
   "metadata": {},
   "outputs": [
    {
     "name": "stdout",
     "output_type": "stream",
     "text": [
      "Vertical stack de s y s2: [[1 2 3]\n",
      " [1 2 3]]\n",
      "Horizontal stack de s y s2: [1 2 3 1 2 3]\n"
     ]
    }
   ],
   "source": [
    "#Hacemos vertical stacking de 's' y 's2'\n",
    "print('Vertical stack de s y s2:', np.vstack([s, s2]))\n",
    "\n",
    "#Hacemos horizontal stacking de 's' y 's2', pero primero debemos transponer nuevamente s2\n",
    "s2 = np.transpose(s2)\n",
    "print('Horizontal stack de s y s2:', np.hstack([s, s2]))"
   ]
  },
  {
   "cell_type": "code",
   "execution_count": null,
   "metadata": {},
   "outputs": [],
   "source": []
  }
 ],
 "metadata": {
  "kernelspec": {
   "display_name": "Python 3",
   "language": "python",
   "name": "python3"
  },
  "language_info": {
   "codemirror_mode": {
    "name": "ipython",
    "version": 3
   },
   "file_extension": ".py",
   "mimetype": "text/x-python",
   "name": "python",
   "nbconvert_exporter": "python",
   "pygments_lexer": "ipython3",
   "version": "3.11.5"
  },
  "orig_nbformat": 4
 },
 "nbformat": 4,
 "nbformat_minor": 2
}
