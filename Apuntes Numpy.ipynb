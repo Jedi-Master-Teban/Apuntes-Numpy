{
 "cells": [
  {
   "cell_type": "markdown",
   "metadata": {},
   "source": [
    "# Curso Numpy\n",
    "Este Notebook corresponde a los apuntes del curso 'Numpy Bootcamp for Data Science and ML in Python' impartido por Jobshie Academy en la plataforma Udemy.\n",
    "\n",
    "Tomé este curso con la intención de reforzar mis habilidades en esta importante librería para la ciencia de datos y la computación científica con Python, te ofrezco estos apuntes esperando que sean un recurso adicional en tu aprendizaje, como siempre estos apuntes estarán en español, las palabras en inglés las explicaré y espero que los ejemplos que aquí consigne te den luces acerca del tema, por favor complementalo con tu propio aprendizaje y si te parecieron útiles considera tomar el curso tú mismo, puede que la información de los videos la encuentres invaluable.\n",
    "\n",
    "Feliz aprendizaje,\n",
    "\n",
    "Esteban."
   ]
  }
 ],
 "metadata": {
  "language_info": {
   "name": "python"
  },
  "orig_nbformat": 4
 },
 "nbformat": 4,
 "nbformat_minor": 2
}
